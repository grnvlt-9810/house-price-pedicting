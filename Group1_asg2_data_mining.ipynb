{
  "nbformat": 4,
  "nbformat_minor": 0,
  "metadata": {
    "colab": {
      "provenance": [],
      "authorship_tag": "ABX9TyPVlYr8d4RbP3/Vy5pbRVxC",
      "include_colab_link": true
    },
    "kernelspec": {
      "name": "ir",
      "display_name": "R"
    },
    "language_info": {
      "name": "R"
    }
  },
  "cells": [
    {
      "cell_type": "markdown",
      "metadata": {
        "id": "view-in-github",
        "colab_type": "text"
      },
      "source": [
        "<a href=\"https://colab.research.google.com/github/wan-fazirah/house-price-pedicting/blob/main/Group1_asg2_data_mining.ipynb\" target=\"_parent\"><img src=\"https://colab.research.google.com/assets/colab-badge.svg\" alt=\"Open In Colab\"/></a>"
      ]
    },
    {
      "cell_type": "markdown",
      "source": [
        "Data Exploration"
      ],
      "metadata": {
        "id": "UK3EUhCU0YcL"
      }
    },
    {
      "cell_type": "code",
      "source": [
        "# data exploratory\n",
        "houses<-read.csv(\"housing_price_dataset.csv\")\n",
        "head(houses)\n",
        "summary(houses)\n",
        "any(is.na(houses))\n",
        "summary(houses$Neighborhood)\n",
        "summary(houses$Price)\n",
        "houses$Price <- round(houses$Price, 2)\n",
        "head(houses)\n",
        "summary(houses$Price)"
      ],
      "metadata": {
        "id": "egO5wRXc0Qjy"
      },
      "execution_count": null,
      "outputs": []
    },
    {
      "cell_type": "markdown",
      "source": [
        "Partitional clustering - Atirah Husnina"
      ],
      "metadata": {
        "id": "zfdjugiZ0afY"
      }
    },
    {
      "cell_type": "code",
      "execution_count": null,
      "metadata": {
        "id": "KYP3XRPiu96F"
      },
      "outputs": [],
      "source": [
        "summary(houses$Neighborhood) # summary statistics for variable Neighborhood\n",
        "\n",
        "# histograms for various features in the dataset\n",
        "hist(houses$SquareFeet, col = 'grey')\n",
        "hist(houses$Bedrooms, col = 'green')\n",
        "hist(houses$Bathrooms, col = 'pink')\n",
        "hist(houses$Price, col = 'yellow')\n",
        "hist(houses$Neighborhood_numeric, col = 'red')\n",
        "hist(houses$YearBuilt, col = 'blue')\n",
        "\n",
        "# create scatterplot using ggplot2\n",
        "library(ggplot2)\n",
        "ggplot(houses, aes(x = YearBuilt, y = Price, color = factor(Neighborhood_numeric), size = SquareFeet)) + geom_point(aes(shape = factor(Bedrooms)), alpha = 0.7) +\n",
        " labs(title = \"House Price Prediction Plot\",\n",
        "       x = \"Year Built\",\n",
        "       y = \"Price\",\n",
        "       color = \"Neighborhood Numeric\",\n",
        "       size = \"Square Feet\",\n",
        "       shape = \"Bedrooms\") +\n",
        " theme_minimal()\n",
        "\n",
        "k_3<-kmeans(houses,3) # perform k-means clustering with k=3\n",
        "clus<-cbind(data,clus2=k_3$cluster) # combine cluster information with original dataset\n",
        "\n",
        "# create scatter plot of SquareFeet against Price, colored by cluster\n",
        "plot(clus$SquareFeet, clus$Price, col=k_3$cluster, pch=k_3$cluster, main = \"SquareFeet and Price\", xlim=c(0,3000), ylim=c(0,300000), xlab= \"SquareFeet\", ylab=\"Price\")"
      ]
    },
    {
      "cell_type": "markdown",
      "source": [
        "Decision Tree- Nor Sakinah Rosman"
      ],
      "metadata": {
        "id": "c3xn9rD10cn4"
      }
    },
    {
      "cell_type": "code",
      "source": [
        "# install and load required package\n",
        "library(rpart)\n",
        "library(rpart.plot)\n",
        "\n",
        "# read dataset from CSV file\n",
        "houses <- read.csv(\"housing_price_dataset.csv\", stringsAsFactors = TRUE)\n",
        "\n",
        "# convert var Neighborhood to factor of 0,1,2\n",
        "houses$Neighborhood <- factor(houses$Neighborhood, levels = c(\"Rural\", \"Suburb\", \"Urban\"), labels = c(0, 1, 2))\n",
        "\n",
        "set.seed(123) # set seed number for reproducibility\n",
        "\n",
        "# split data for training and testing sets\n",
        "data_split <- sample.int(n = nrow(houses), size = floor(nrow(houses)*0.8))\n",
        "train_data <- houses[data_split,]\n",
        "test_data <- houses[-data_split,]\n",
        "\n",
        "# build regression decision tree model using training data\n",
        "model_rpart <- rpart(Price ~ ., data = train_data, method = \"anova\")\n",
        "print(model_rpart) # print the details of trained model\n",
        "\n",
        "# visualizing the decision tree-plotting the tree\n",
        "rpart.plot(model_rpart, extra = 101, main = \"House Price Prediction\" )\n",
        "\n",
        "# make predictions on test data\n",
        "predictions_rpart <- predict(model_rpart, test_data)\n",
        "predicted_prices <- predict(model_rpart, test_data)\n",
        "\n",
        "# calculate residuals error (substracting actual prices from predicted prices)\n",
        "residuals <- test_data$Price - predicted_prices\n",
        "squared_residuals <- residuals^2 # calculate squared_residuals\n",
        "mean_squared_error <- mean(squared_residuals) # calculate mean_squared_error\n",
        "rmse <- sqrt(mean_squared_error) # calculate root for mean_squared_error\n",
        "\n",
        "# display results for rmse and mean_squared_error\n",
        "print(rmse)\n",
        "print(mean_squared_error)"
      ],
      "metadata": {
        "id": "tZm_XbWk1dz6"
      },
      "execution_count": null,
      "outputs": []
    },
    {
      "cell_type": "markdown",
      "source": [
        "Bayesian Classifier -Sitti Wan Fazirah"
      ],
      "metadata": {
        "id": "72eh5vrQ1hnd"
      }
    },
    {
      "cell_type": "code",
      "source": [
        "# Install and loading required package\n",
        "install.packages(\"e1071\")\n",
        "library(e1071)\n",
        "\n",
        "head(houses) # Display first few rows of the 'houses' dataset\n",
        "# Convert each numerical attributes to categorical variable\n",
        "houses$Price <- ifelse(houses$Price > 250000, \"High\", \"Low\")\n",
        "houses$YearBuilt <- ifelse(houses$YearBuilt > 2000, \"New\", \"Old\")\n",
        "houses$Bedrooms <- ifelse(houses$Bedrooms > 3, \"Many\", \"Less\")\n",
        "houses$Bathrooms <- ifelse(houses$Bathrooms > 2, \"Many\", \"Less\")\n",
        "houses$SquareFeet <- ifelse(houses$SquareFeet > 2200, \"Large\", \"Small\")\n",
        "head(houses) # Display 1st few rows of dataset to check all attributes has been converted\n",
        "\n",
        "# Build naive Bayes model on modified dataset\n",
        "model <- naiveBayes(Price ~ ., data = houses)\n",
        "\n",
        "# Make raw predictions on the first 10 rows of the dataset\n",
        "predict(model, houses[1:10,], type = \"raw\")\n",
        "pred <- predict(model, houses) # Make predictions on entire dataset\n",
        "\n",
        "# Get raw predictions for all instances\n",
        "predictions <- predict(model, houses, type = \"raw\")\n",
        "table(pred, houses$Price) # Create confusion table to evaluate model\n",
        "\n",
        "# Apply threshold to raw predictions to get predicted labels\n",
        "predicted_labels <- apply(predictions, 1, function(row) ifelse(row[\"High\"] > row[\"Low\"], \"High\", \"Low\"))\n",
        "actual_labels <- houses$Price # Extract actual label form dataset\n",
        "\n",
        "# Create vector of 0s and 1s (based on incorrect/correct predictions)\n",
        "residuals <- ifelse(predicted_labels == actual_labels, 0, 1)\n",
        "\n",
        "# Calculations\n",
        "squared_residuals <- residuals^2 # Calculate squared residuals\n",
        "mse <- mean(squared_residuals) # Calculate Mean Squared Error (MSE)\n",
        "rmse <- sqrt(mse) # Calculate Root Mean Squared Error (RMSE)\n",
        "\n",
        "# Print the calculated MSE and RMSE and its predicted output\n",
        "cat(\"Mean Squared Error (MSE):\", mse, \"\\n\") # Mean Squared Error (MSE): 0.1939\n",
        "cat(\"Root Mean Squared Error (RMSE):\", rmse, \"\\n\") # Root Mean Squared Error (RMSE): 0.4403408"
      ],
      "metadata": {
        "id": "5osgZX0F1l21"
      },
      "execution_count": null,
      "outputs": []
    }
  ]
}